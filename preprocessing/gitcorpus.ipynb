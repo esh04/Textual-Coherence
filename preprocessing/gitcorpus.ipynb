{
 "cells": [
  {
   "cell_type": "code",
   "execution_count": 70,
   "metadata": {},
   "outputs": [],
   "source": [
    "import pandas as pd"
   ]
  },
  {
   "cell_type": "code",
   "execution_count": 71,
   "metadata": {},
   "outputs": [],
   "source": [
    "df1 = pd.read_json(\"../data/Coherence_Modelling-main/official_wikipedia.jsonl\", lines=True)\n",
    "df2 = pd.read_json(\"../data/Coherence_Modelling-main/official_cnn.jsonl\", lines=True)"
   ]
  },
  {
   "cell_type": "code",
   "execution_count": 72,
   "metadata": {},
   "outputs": [],
   "source": [
    "replaced_ctx1 = []\n",
    "for index,row in df1.iterrows():\n",
    "    if row['sen_position'] != -1:\n",
    "        replaced_ctx1.append(row['ctx'].replace(row['to_be_replaced'], row['replace_with']))\n",
    "    else:\n",
    "        replaced_ctx1.append('')"
   ]
  },
  {
   "cell_type": "code",
   "execution_count": 73,
   "metadata": {},
   "outputs": [],
   "source": [
    "replaced_ctx2 = []\n",
    "for index,row in df2.iterrows():\n",
    "    if row['sen_position'] != -1:\n",
    "        replaced_ctx2.append(row['ctx'].replace(row['to_be_replaced'], row['replace_with']))\n",
    "    else:\n",
    "        replaced_ctx2.append('')"
   ]
  },
  {
   "cell_type": "code",
   "execution_count": 74,
   "metadata": {},
   "outputs": [],
   "source": [
    "df1['ctx-replaced'] = replaced_ctx1\n",
    "df2['ctx-replaced'] = replaced_ctx2"
   ]
  },
  {
   "cell_type": "code",
   "execution_count": 75,
   "metadata": {},
   "outputs": [],
   "source": [
    "df = pd.concat([df1, df2], ignore_index=True)"
   ]
  },
  {
   "cell_type": "code",
   "execution_count": 76,
   "metadata": {},
   "outputs": [
    {
     "data": {
      "text/html": [
       "<div>\n",
       "<style scoped>\n",
       "    .dataframe tbody tr th:only-of-type {\n",
       "        vertical-align: middle;\n",
       "    }\n",
       "\n",
       "    .dataframe tbody tr th {\n",
       "        vertical-align: top;\n",
       "    }\n",
       "\n",
       "    .dataframe thead th {\n",
       "        text-align: right;\n",
       "    }\n",
       "</style>\n",
       "<table border=\"1\" class=\"dataframe\">\n",
       "  <thead>\n",
       "    <tr style=\"text-align: right;\">\n",
       "      <th></th>\n",
       "      <th>ctx</th>\n",
       "      <th>label</th>\n",
       "      <th>to_be_replaced</th>\n",
       "      <th>train</th>\n",
       "      <th>file_id</th>\n",
       "      <th>replace_with</th>\n",
       "      <th>sen_position</th>\n",
       "      <th>ctx-replaced</th>\n",
       "    </tr>\n",
       "  </thead>\n",
       "  <tbody>\n",
       "    <tr>\n",
       "      <th>0</th>\n",
       "      <td>Estramustine (INN, USAN, BAN) (brand names Emc...</td>\n",
       "      <td>0</td>\n",
       "      <td>It is a derivative of estradiol, an estrogen, ...</td>\n",
       "      <td>0</td>\n",
       "      <td>2202</td>\n",
       "      <td>It is the L-alanine ester of estramustine, whi...</td>\n",
       "      <td>1</td>\n",
       "      <td>Estramustine (INN, USAN, BAN) (brand names Emc...</td>\n",
       "    </tr>\n",
       "    <tr>\n",
       "      <th>1</th>\n",
       "      <td>L² Puppis (also known as HD 56096) is a giant ...</td>\n",
       "      <td>0</td>\n",
       "      <td>This is most likely an asymptotic giant branch...</td>\n",
       "      <td>0</td>\n",
       "      <td>1034</td>\n",
       "      <td>It has an apparent visual magnitude of 6.26.</td>\n",
       "      <td>3</td>\n",
       "      <td>L² Puppis (also known as HD 56096) is a giant ...</td>\n",
       "    </tr>\n",
       "    <tr>\n",
       "      <th>2</th>\n",
       "      <td>David John (Davy/Davey) Gunn (1887-1955) was a...</td>\n",
       "      <td>0</td>\n",
       "      <td>He covered the 90 kilometre, four day journey ...</td>\n",
       "      <td>0</td>\n",
       "      <td>4180</td>\n",
       "      <td>Gunn played a role in the implementation of th...</td>\n",
       "      <td>3</td>\n",
       "      <td>David John (Davy/Davey) Gunn (1887-1955) was a...</td>\n",
       "    </tr>\n",
       "    <tr>\n",
       "      <th>3</th>\n",
       "      <td>Olivia Hussey (born Olivia Osuna; 17 April 195...</td>\n",
       "      <td>0</td>\n",
       "      <td>She is also well known for her role as Mary, t...</td>\n",
       "      <td>0</td>\n",
       "      <td>1932</td>\n",
       "      <td>She is best known for her collaborations with ...</td>\n",
       "      <td>1</td>\n",
       "      <td>Olivia Hussey (born Olivia Osuna; 17 April 195...</td>\n",
       "    </tr>\n",
       "    <tr>\n",
       "      <th>4</th>\n",
       "      <td>Tailapa II, or Taila, (r.973–997 CE) (or Ahava...</td>\n",
       "      <td>0</td>\n",
       "      <td>He re-established the Western Chalukya dynasty...</td>\n",
       "      <td>0</td>\n",
       "      <td>8118</td>\n",
       "      <td>This Kannadiga dynasty is sometimes called the...</td>\n",
       "      <td>1</td>\n",
       "      <td>Tailapa II, or Taila, (r.973–997 CE) (or Ahava...</td>\n",
       "    </tr>\n",
       "    <tr>\n",
       "      <th>...</th>\n",
       "      <td>...</td>\n",
       "      <td>...</td>\n",
       "      <td>...</td>\n",
       "      <td>...</td>\n",
       "      <td>...</td>\n",
       "      <td>...</td>\n",
       "      <td>...</td>\n",
       "      <td>...</td>\n",
       "    </tr>\n",
       "    <tr>\n",
       "      <th>179079</th>\n",
       "      <td>-LRB- CNN -RRB- If you listen to rock or pop, ...</td>\n",
       "      <td>1</td>\n",
       "      <td></td>\n",
       "      <td>1</td>\n",
       "      <td>78526</td>\n",
       "      <td></td>\n",
       "      <td>-1</td>\n",
       "      <td></td>\n",
       "    </tr>\n",
       "    <tr>\n",
       "      <th>179080</th>\n",
       "      <td>-LRB- CNN -RRB- -- Pirates have struck again, ...</td>\n",
       "      <td>1</td>\n",
       "      <td></td>\n",
       "      <td>1</td>\n",
       "      <td>8221</td>\n",
       "      <td></td>\n",
       "      <td>-1</td>\n",
       "      <td></td>\n",
       "    </tr>\n",
       "    <tr>\n",
       "      <th>179081</th>\n",
       "      <td>-LRB- CNN -RRB- -- Russia will begin the const...</td>\n",
       "      <td>1</td>\n",
       "      <td></td>\n",
       "      <td>1</td>\n",
       "      <td>81712</td>\n",
       "      <td></td>\n",
       "      <td>-1</td>\n",
       "      <td></td>\n",
       "    </tr>\n",
       "    <tr>\n",
       "      <th>179082</th>\n",
       "      <td>-LRB- CNN -RRB- -- The man police say kidnappe...</td>\n",
       "      <td>1</td>\n",
       "      <td></td>\n",
       "      <td>1</td>\n",
       "      <td>39783</td>\n",
       "      <td></td>\n",
       "      <td>-1</td>\n",
       "      <td></td>\n",
       "    </tr>\n",
       "    <tr>\n",
       "      <th>179083</th>\n",
       "      <td>-LRB- CNN -RRB- -- Frostbite has forced Britis...</td>\n",
       "      <td>1</td>\n",
       "      <td></td>\n",
       "      <td>1</td>\n",
       "      <td>18930</td>\n",
       "      <td></td>\n",
       "      <td>-1</td>\n",
       "      <td></td>\n",
       "    </tr>\n",
       "  </tbody>\n",
       "</table>\n",
       "<p>179084 rows × 8 columns</p>\n",
       "</div>"
      ],
      "text/plain": [
       "                                                      ctx  label  \\\n",
       "0       Estramustine (INN, USAN, BAN) (brand names Emc...      0   \n",
       "1       L² Puppis (also known as HD 56096) is a giant ...      0   \n",
       "2       David John (Davy/Davey) Gunn (1887-1955) was a...      0   \n",
       "3       Olivia Hussey (born Olivia Osuna; 17 April 195...      0   \n",
       "4       Tailapa II, or Taila, (r.973–997 CE) (or Ahava...      0   \n",
       "...                                                   ...    ...   \n",
       "179079  -LRB- CNN -RRB- If you listen to rock or pop, ...      1   \n",
       "179080  -LRB- CNN -RRB- -- Pirates have struck again, ...      1   \n",
       "179081  -LRB- CNN -RRB- -- Russia will begin the const...      1   \n",
       "179082  -LRB- CNN -RRB- -- The man police say kidnappe...      1   \n",
       "179083  -LRB- CNN -RRB- -- Frostbite has forced Britis...      1   \n",
       "\n",
       "                                           to_be_replaced  train  file_id  \\\n",
       "0       It is a derivative of estradiol, an estrogen, ...      0     2202   \n",
       "1       This is most likely an asymptotic giant branch...      0     1034   \n",
       "2       He covered the 90 kilometre, four day journey ...      0     4180   \n",
       "3       She is also well known for her role as Mary, t...      0     1932   \n",
       "4       He re-established the Western Chalukya dynasty...      0     8118   \n",
       "...                                                   ...    ...      ...   \n",
       "179079                                                         1    78526   \n",
       "179080                                                         1     8221   \n",
       "179081                                                         1    81712   \n",
       "179082                                                         1    39783   \n",
       "179083                                                         1    18930   \n",
       "\n",
       "                                             replace_with  sen_position  \\\n",
       "0       It is the L-alanine ester of estramustine, whi...             1   \n",
       "1            It has an apparent visual magnitude of 6.26.             3   \n",
       "2       Gunn played a role in the implementation of th...             3   \n",
       "3       She is best known for her collaborations with ...             1   \n",
       "4       This Kannadiga dynasty is sometimes called the...             1   \n",
       "...                                                   ...           ...   \n",
       "179079                                                               -1   \n",
       "179080                                                               -1   \n",
       "179081                                                               -1   \n",
       "179082                                                               -1   \n",
       "179083                                                               -1   \n",
       "\n",
       "                                             ctx-replaced  \n",
       "0       Estramustine (INN, USAN, BAN) (brand names Emc...  \n",
       "1       L² Puppis (also known as HD 56096) is a giant ...  \n",
       "2       David John (Davy/Davey) Gunn (1887-1955) was a...  \n",
       "3       Olivia Hussey (born Olivia Osuna; 17 April 195...  \n",
       "4       Tailapa II, or Taila, (r.973–997 CE) (or Ahava...  \n",
       "...                                                   ...  \n",
       "179079                                                     \n",
       "179080                                                     \n",
       "179081                                                     \n",
       "179082                                                     \n",
       "179083                                                     \n",
       "\n",
       "[179084 rows x 8 columns]"
      ]
     },
     "execution_count": 76,
     "metadata": {},
     "output_type": "execute_result"
    }
   ],
   "source": [
    "df"
   ]
  },
  {
   "cell_type": "code",
   "execution_count": 77,
   "metadata": {},
   "outputs": [],
   "source": [
    "df.to_csv('../data/gitCorpus.csv', index=False)"
   ]
  },
  {
   "cell_type": "code",
   "execution_count": 78,
   "metadata": {},
   "outputs": [
    {
     "data": {
      "text/plain": [
       "'Donald Malloy (born November 28, 1955), is an American gospel musician. He first came to prominence singing with the New Jersey Mass Choir and is a featured singer on the group\\'s own 1985 version of the song they had originally recorded with Foreigner, \"I Want to Know What Love Is.\"  The following year, Malloy began his solo career, releasing the album, Holy Spirit.  However, his solo career truly took off four years later in 1990, with the release of, There Is No Limit, that was released by Atlanta International Records. Malloy released albums in 1993 with Everything Will Be Alright by A&M Records, 1994\\'s Hold on to the Promise with Light Records, Jesus Reigns in 1999 with Savoy Records. All but two of these albums chart upon the Billboard magazine charts, exclusively on the Gospel Albums chart.'"
      ]
     },
     "execution_count": 78,
     "metadata": {},
     "output_type": "execute_result"
    }
   ],
   "source": [
    "df['ctx'][4521]"
   ]
  },
  {
   "cell_type": "code",
   "execution_count": 79,
   "metadata": {},
   "outputs": [
    {
     "data": {
      "text/plain": [
       "'Donald Malloy (born November 28, 1955), is an American gospel musician. He first came to prominence singing with the New Jersey Mass Choir and is a featured singer on the group\\'s own 1985 version of the song they had originally recorded with Foreigner, \"I Want to Know What Love Is.\"  The following year, Malloy began his solo career, releasing the album, Holy Spirit.  However, his solo career truly took off four years later in 1990, with the release of, There Is No Limit, that was released by Atlanta International Records. His subsequent album, No Greater Love, was released in 1995 by Glorious Music, but it failed to chart. All but two of these albums chart upon the Billboard magazine charts, exclusively on the Gospel Albums chart.'"
      ]
     },
     "execution_count": 79,
     "metadata": {},
     "output_type": "execute_result"
    }
   ],
   "source": [
    "df['ctx-replaced'][4521]"
   ]
  },
  {
   "cell_type": "code",
   "execution_count": null,
   "metadata": {},
   "outputs": [],
   "source": []
  }
 ],
 "metadata": {
  "interpreter": {
   "hash": "31f2aee4e71d21fbe5cf8b01ff0e069b9275f58929596ceb00d14d90e3e16cd6"
  },
  "kernelspec": {
   "display_name": "Python 3.8.10 64-bit",
   "language": "python",
   "name": "python3"
  },
  "language_info": {
   "codemirror_mode": {
    "name": "ipython",
    "version": 3
   },
   "file_extension": ".py",
   "mimetype": "text/x-python",
   "name": "python",
   "nbconvert_exporter": "python",
   "pygments_lexer": "ipython3",
   "version": "3.8.10"
  },
  "orig_nbformat": 4
 },
 "nbformat": 4,
 "nbformat_minor": 2
}
